{
  "nbformat": 4,
  "nbformat_minor": 0,
  "metadata": {
    "colab": {
      "provenance": []
    },
    "kernelspec": {
      "name": "python3",
      "display_name": "Python 3"
    },
    "language_info": {
      "name": "python"
    }
  },
  "cells": [
    {
      "cell_type": "code",
      "execution_count": 1,
      "metadata": {
        "colab": {
          "base_uri": "https://localhost:8080/"
        },
        "id": "8eT9Q73aXUqo",
        "outputId": "faa2cc21-9345-4354-a8b2-54792d77c653"
      },
      "outputs": [
        {
          "output_type": "stream",
          "name": "stdout",
          "text": [
            "Recommended movies similar to movie_id 1:\n",
            "movie_id\n",
            "4    0.82061\n",
            "2    0.42220\n",
            "3    0.29542\n",
            "Name: 1, dtype: float64\n"
          ]
        }
      ],
      "source": [
        "import pandas as pd\n",
        "from sklearn.metrics.pairwise import cosine_similarity\n",
        "from scipy.sparse import csr_matrix\n",
        "data = {\n",
        "    'user_id': [1, 1, 1, 2, 2, 3, 3, 3, 4, 4],\n",
        "    'movie_id': [1, 2, 3, 1, 4, 2, 3, 4, 1, 4],\n",
        "    'rating': [4, 5, 3, 5, 4, 3, 4, 2, 5, 4]\n",
        "}\n",
        "\n",
        "ratings = pd.DataFrame(data)\n",
        "user_item_matrix = ratings.pivot(index='user_id', columns='movie_id', values='rating').fillna(0)\n",
        "user_item_sparse = csr_matrix(user_item_matrix)\n",
        "item_similarity = cosine_similarity(user_item_sparse.T)\n",
        "item_similarity_df = pd.DataFrame(item_similarity, index=user_item_matrix.columns, columns=user_item_matrix.columns)\n",
        "def recommend_movies(movie_id, num_recommendations=3):\n",
        "    similar_items = item_similarity_df[movie_id].sort_values(ascending=False).iloc[1:num_recommendations+1]\n",
        "    return similar_items\n",
        "recommended_movies = recommend_movies(movie_id=1, num_recommendations=3)\n",
        "print(\"Recommended movies similar to movie_id 1:\")\n",
        "print(recommended_movies)\n"
      ]
    }
  ]
}